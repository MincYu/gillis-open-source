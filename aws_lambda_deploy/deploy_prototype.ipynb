{
 "cells": [
  {
   "cell_type": "code",
   "execution_count": 1,
   "metadata": {},
   "outputs": [],
   "source": [
    "import os\n",
    "import shutil\n",
    "import subprocess\n",
    "import json\n",
    "from functools import reduce"
   ]
  },
  {
   "cell_type": "code",
   "execution_count": 2,
   "metadata": {},
   "outputs": [],
   "source": [
    "job_name = \"wresnet50_2\"\n",
    "\n",
    "# input file path\n",
    "current_path = os.getcwd()\n",
    "job_path = os.path.join(current_path, job_name)\n",
    "input_path = os.path.join(job_path, \"input\")\n",
    "models_path = os.path.join(input_path, \"models\")\n",
    "structure_json_path = os.path.join(input_path, 'structure.json')\n",
    "\n",
    "# template file path\n",
    "template_path = os.path.join(current_path, \"templates\")\n",
    "sam_app_path = os.path.join(template_path, \"sam-app\")\n",
    "\n",
    "# output file path\n",
    "output_path = os.path.join(job_path, \"output\")"
   ]
  },
  {
   "cell_type": "markdown",
   "metadata": {},
   "source": [
    "### Preprocess"
   ]
  },
  {
   "cell_type": "code",
   "execution_count": 3,
   "metadata": {},
   "outputs": [],
   "source": [
    "def check_and_new_folder(path):\n",
    "    if os.path.exists(path):\n",
    "        shutil.rmtree(path)\n",
    "    os.mkdir(path)"
   ]
  },
  {
   "cell_type": "code",
   "execution_count": 4,
   "metadata": {},
   "outputs": [],
   "source": [
    "def copy_files(src, dest, name_lists):\n",
    "    for name in name_lists:\n",
    "        shutil.copyfile(os.path.join(src, name), os.path.join(dest, name))\n",
    "\n",
    "def copy_tree(src, dst, symlinks=False, ignore=None):\n",
    "    for item in os.listdir(src):\n",
    "        s = os.path.join(src, item)\n",
    "        d = os.path.join(dst, item)\n",
    "        if os.path.isdir(s):\n",
    "            shutil.copytree(s, d, symlinks, ignore)\n",
    "        else:\n",
    "            shutil.copy2(s, d)"
   ]
  },
  {
   "cell_type": "code",
   "execution_count": 5,
   "metadata": {},
   "outputs": [],
   "source": [
    "def get_stage_info(path):\n",
    "    with open(structure_json_path, 'r') as json_file:\n",
    "        stage_dict = json.load(json_file)\n",
    "    return stage_dict"
   ]
  },
  {
   "cell_type": "code",
   "execution_count": 6,
   "metadata": {},
   "outputs": [],
   "source": [
    "stage_dict = get_stage_info(input_path)\n",
    "check_and_new_folder(output_path)\n",
    "copy_tree(sam_app_path, output_path + \"/\")"
   ]
  },
  {
   "cell_type": "markdown",
   "metadata": {},
   "source": [
    "### Prepare master and workers"
   ]
  },
  {
   "cell_type": "code",
   "execution_count": 7,
   "metadata": {},
   "outputs": [],
   "source": [
    "output_functions_path = os.path.join(output_path, 'lambda_functions')\n",
    "worker_template_path = os.path.join(template_path, 'worker.py')\n",
    "\n",
    "for name in os.listdir(models_path):\n",
    "    if 'json' in name:\n",
    "        path = os.path.join(models_path, name)\n",
    "        name_body = name[:-5]\n",
    "        func_id = name_body.split('_')[-1]\n",
    "        if int(func_id) == 0:\n",
    "            shutil.copy2(path, os.path.join(output_functions_path, 'master'))\n",
    "            shutil.copy2(structure_json_path, os.path.join(output_functions_path, 'master'))\n",
    "        else:\n",
    "            split_name = name_body.split('_')\n",
    "            worker_path = os.path.join(output_functions_path,\n",
    "                                      'from{}To{}Worker{}'.format(\n",
    "                                      split_name[0], split_name[1], split_name[2]))\n",
    "            os.mkdir(worker_path)\n",
    "            shutil.copy(path, worker_path)\n",
    "            shutil.copy(worker_template_path, worker_path)\n",
    "\n",
    "for name in os.listdir(output_functions_path):\n",
    "    path = os.path.join(output_functions_path, name)\n",
    "    if os.path.isdir(path):\n",
    "        copy_files(template_path, path, ['requirements.txt', '__init__.py', 'utils.py'])"
   ]
  },
  {
   "cell_type": "markdown",
   "metadata": {},
   "source": [
    "### Generate template.yaml"
   ]
  },
  {
   "cell_type": "code",
   "execution_count": 8,
   "metadata": {},
   "outputs": [],
   "source": [
    "def dump_line_list(line_list, file_obj):\n",
    "    for line in line_list:\n",
    "        file_obj.writelines(line)\n",
    "    file_obj.writelines(\"\\n\")"
   ]
  },
  {
   "cell_type": "code",
   "execution_count": 9,
   "metadata": {},
   "outputs": [],
   "source": [
    "prefix_path = os.path.join(template_path, 'template_yaml_prefix')\n",
    "postfix_path = os.path.join(template_path, 'template_yaml_postfix')\n",
    "output_template_path = os.path.join(output_path, 'template.yaml')\n",
    "\n",
    "line_list_list = []\n",
    "line_list_list.append(open(prefix_path, 'r').readlines())\n",
    "\n",
    "body_list = []\n",
    "for name in os.listdir(models_path):\n",
    "    if 'json' in name:\n",
    "        name_body = name[:-5]\n",
    "        func_id = name_body.split('_')[-1]\n",
    "        if not int(func_id) == 0:\n",
    "            split_name = name_body.split('_')\n",
    "            identity = 'from{}To{}Worker{}'.format(split_name[0], split_name[1], split_name[2])\n",
    "            \n",
    "            body_list.append('  {}:\\n'.format(identity))\n",
    "            body_list.append('    Type: AWS::Serverless::Function\\n')\n",
    "            body_list.append('    Properties:\\n')\n",
    "            body_list.append('      FunctionName: {}\\n'.format(identity))\n",
    "            body_list.append('      CodeUri: lambda_functions/{}/\\n'.format(identity))\n",
    "            body_list.append('      Handler: worker.lambda_handler\\n')\n",
    "            body_list.append('\\n')\n",
    "\n",
    "body_list.append('\\n')\n",
    "line_list_list.append(body_list)\n",
    "line_list_list.append(open(postfix_path, 'r').readlines())\n",
    "\n",
    "\n",
    "output_obj = open(output_template_path, 'w+')\n",
    "for line_list in line_list_list:\n",
    "    dump_line_list(line_list, output_obj)\n",
    "output_obj.close()"
   ]
  }
 ],
 "metadata": {
  "kernelspec": {
   "display_name": "Python 3",
   "language": "python",
   "name": "python3"
  },
  "language_info": {
   "codemirror_mode": {
    "name": "ipython",
    "version": 3
   },
   "file_extension": ".py",
   "mimetype": "text/x-python",
   "name": "python",
   "nbconvert_exporter": "python",
   "pygments_lexer": "ipython3",
   "version": "3.7.4"
  }
 },
 "nbformat": 4,
 "nbformat_minor": 2
}
